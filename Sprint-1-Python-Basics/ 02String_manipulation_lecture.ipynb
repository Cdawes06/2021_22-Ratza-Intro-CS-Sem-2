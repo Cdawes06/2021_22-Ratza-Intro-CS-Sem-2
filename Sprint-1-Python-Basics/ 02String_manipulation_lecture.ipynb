{
  "cells": [
    {
      "cell_type": "markdown",
      "metadata": {
        "id": "view-in-github",
        "colab_type": "text"
      },
      "source": [
        "<a href=\"https://colab.research.google.com/github/Cdawes06/2021_22-Ratza-Intro-CS-Sem-2/blob/main/Sprint-1-Python-Basics/%2002String_manipulation_lecture.ipynb\" target=\"_parent\"><img src=\"https://colab.research.google.com/assets/colab-badge.svg\" alt=\"Open In Colab\"/></a>"
      ]
    },
    {
      "cell_type": "markdown",
      "source": [
        "# String Manipulation\n",
        "\n",
        "[Python Docs](https://docs.python.org/3.7/search.html?q=string)\n",
        "\n",
        "We've seen some ways we can manipulate numbers in Python, now let's explore different ways we can interact with strings in Python.\n",
        "\n",
        "Text data in Python is represented using **strings** (think strings of characters), and Python provides various ways of interacting with strings. We've covered some of the basics like adding strings and basic formatting, but let's review."
      ],
      "metadata": {
        "collapsed": false,
        "id": "TTMgRw5jjg6K"
      }
    },
    {
      "cell_type": "code",
      "execution_count": 2,
      "metadata": {
        "collapsed": true,
        "id": "gL1AZJkUjg6M",
        "colab": {
          "base_uri": "https://localhost:8080/",
          "height": 35
        },
        "outputId": "f6ba0e1a-7be2-45cb-d5c0-3b50c8b8310d"
      },
      "outputs": [
        {
          "output_type": "execute_result",
          "data": {
            "application/vnd.google.colaboratory.intrinsic+json": {
              "type": "string"
            },
            "text/plain": [
              "'hello, cody'"
            ]
          },
          "metadata": {},
          "execution_count": 2
        }
      ],
      "source": [
        "greeting = \"hello\"\n",
        "name = \"cody\"\n",
        "\n",
        "f\"{greeting}, {name}\""
      ]
    },
    {
      "cell_type": "code",
      "source": [
        "greeting = name"
      ],
      "metadata": {
        "id": "Kv0N0Cn8m9V5"
      },
      "execution_count": 3,
      "outputs": []
    },
    {
      "cell_type": "code",
      "source": [
        "greeting * 5"
      ],
      "metadata": {
        "colab": {
          "base_uri": "https://localhost:8080/",
          "height": 35
        },
        "id": "E-WI-yHPnC9N",
        "outputId": "ecf709d4-48b0-4b5c-eaf0-a34aaf3775f4"
      },
      "execution_count": 4,
      "outputs": [
        {
          "output_type": "execute_result",
          "data": {
            "application/vnd.google.colaboratory.intrinsic+json": {
              "type": "string"
            },
            "text/plain": [
              "'codycodycodycodycody'"
            ]
          },
          "metadata": {},
          "execution_count": 4
        }
      ]
    },
    {
      "cell_type": "code",
      "source": [
        "j = (42-6)/6\n",
        "\n",
        "j"
      ],
      "metadata": {
        "colab": {
          "base_uri": "https://localhost:8080/"
        },
        "id": "gTdt-UWkmho9",
        "outputId": "e9cf9b19-b992-4e78-fd11-982c4fca2977"
      },
      "execution_count": 1,
      "outputs": [
        {
          "output_type": "execute_result",
          "data": {
            "text/plain": [
              "6.0"
            ]
          },
          "metadata": {},
          "execution_count": 1
        }
      ]
    },
    {
      "cell_type": "markdown",
      "source": [
        "### Built-in Functions\n",
        "\n",
        "Python provides many functions that are built-in to the interpreter and always available. Here are a few that work with strings"
      ],
      "metadata": {
        "collapsed": false,
        "id": "0-g4QzH4jg6N"
      }
    },
    {
      "cell_type": "code",
      "execution_count": 5,
      "outputs": [
        {
          "output_type": "execute_result",
          "data": {
            "text/plain": [
              "['__add__',\n",
              " '__class__',\n",
              " '__contains__',\n",
              " '__delattr__',\n",
              " '__dir__',\n",
              " '__doc__',\n",
              " '__eq__',\n",
              " '__format__',\n",
              " '__ge__',\n",
              " '__getattribute__',\n",
              " '__getitem__',\n",
              " '__getnewargs__',\n",
              " '__gt__',\n",
              " '__hash__',\n",
              " '__init__',\n",
              " '__init_subclass__',\n",
              " '__iter__',\n",
              " '__le__',\n",
              " '__len__',\n",
              " '__lt__',\n",
              " '__mod__',\n",
              " '__mul__',\n",
              " '__ne__',\n",
              " '__new__',\n",
              " '__reduce__',\n",
              " '__reduce_ex__',\n",
              " '__repr__',\n",
              " '__rmod__',\n",
              " '__rmul__',\n",
              " '__setattr__',\n",
              " '__sizeof__',\n",
              " '__str__',\n",
              " '__subclasshook__',\n",
              " 'capitalize',\n",
              " 'casefold',\n",
              " 'center',\n",
              " 'count',\n",
              " 'encode',\n",
              " 'endswith',\n",
              " 'expandtabs',\n",
              " 'find',\n",
              " 'format',\n",
              " 'format_map',\n",
              " 'index',\n",
              " 'isalnum',\n",
              " 'isalpha',\n",
              " 'isascii',\n",
              " 'isdecimal',\n",
              " 'isdigit',\n",
              " 'isidentifier',\n",
              " 'islower',\n",
              " 'isnumeric',\n",
              " 'isprintable',\n",
              " 'isspace',\n",
              " 'istitle',\n",
              " 'isupper',\n",
              " 'join',\n",
              " 'ljust',\n",
              " 'lower',\n",
              " 'lstrip',\n",
              " 'maketrans',\n",
              " 'partition',\n",
              " 'replace',\n",
              " 'rfind',\n",
              " 'rindex',\n",
              " 'rjust',\n",
              " 'rpartition',\n",
              " 'rsplit',\n",
              " 'rstrip',\n",
              " 'split',\n",
              " 'splitlines',\n",
              " 'startswith',\n",
              " 'strip',\n",
              " 'swapcase',\n",
              " 'title',\n",
              " 'translate',\n",
              " 'upper',\n",
              " 'zfill']"
            ]
          },
          "metadata": {},
          "execution_count": 5
        }
      ],
      "source": [
        "dir(greeting)"
      ],
      "metadata": {
        "pycharm": {
          "name": "#%%\n"
        },
        "id": "kmNvuYFQjg6N",
        "colab": {
          "base_uri": "https://localhost:8080/"
        },
        "outputId": "2bbf4c87-b200-44f2-c3d7-3a8605b05bdc"
      }
    },
    {
      "cell_type": "markdown",
      "source": [
        "We can change the characters to upper or lower case."
      ],
      "metadata": {
        "collapsed": false,
        "id": "UsVDu96ajg6O"
      }
    },
    {
      "cell_type": "code",
      "execution_count": 9,
      "outputs": [
        {
          "output_type": "execute_result",
          "data": {
            "application/vnd.google.colaboratory.intrinsic+json": {
              "type": "string"
            },
            "text/plain": [
              "'This Is A Simple Sentence.'"
            ]
          },
          "metadata": {},
          "execution_count": 9
        }
      ],
      "source": [
        "s = \"This is a simple sentence.\""
      ],
      "metadata": {
        "pycharm": {
          "name": "#%%\n"
        },
        "id": "rAxy_jcrjg6O",
        "colab": {
          "base_uri": "https://localhost:8080/",
          "height": 35
        },
        "outputId": "7e2f15a6-d381-4db0-c545-ce464e35737d"
      }
    },
    {
      "cell_type": "code",
      "execution_count": 11,
      "outputs": [
        {
          "output_type": "execute_result",
          "data": {
            "application/vnd.google.colaboratory.intrinsic+json": {
              "type": "string"
            },
            "text/plain": [
              "'this is a simple sentence.'"
            ]
          },
          "metadata": {},
          "execution_count": 11
        }
      ],
      "source": [
        "s.lower()"
      ],
      "metadata": {
        "pycharm": {
          "name": "#%%\n"
        },
        "id": "n9t5zzV-jg6O",
        "colab": {
          "base_uri": "https://localhost:8080/",
          "height": 35
        },
        "outputId": "39fc1f48-6cbd-4c7d-f3d9-9c8fbdd9b767"
      }
    },
    {
      "cell_type": "code",
      "execution_count": 10,
      "outputs": [
        {
          "output_type": "execute_result",
          "data": {
            "application/vnd.google.colaboratory.intrinsic+json": {
              "type": "string"
            },
            "text/plain": [
              "'THIS IS A SIMPLE SENTENCE.'"
            ]
          },
          "metadata": {},
          "execution_count": 10
        }
      ],
      "source": [
        "s.upper()"
      ],
      "metadata": {
        "pycharm": {
          "name": "#%%\n"
        },
        "id": "1bTPEtx6jg6O",
        "colab": {
          "base_uri": "https://localhost:8080/",
          "height": 35
        },
        "outputId": "a167ca67-ee50-4fcd-c413-c33708b61037"
      }
    },
    {
      "cell_type": "code",
      "source": [
        "s.title()"
      ],
      "metadata": {
        "colab": {
          "base_uri": "https://localhost:8080/",
          "height": 35
        },
        "id": "imgyH5SRoKvW",
        "outputId": "9b08feb9-bb2d-4dd9-f965-64e7bb4426e5"
      },
      "execution_count": 12,
      "outputs": [
        {
          "output_type": "execute_result",
          "data": {
            "application/vnd.google.colaboratory.intrinsic+json": {
              "type": "string"
            },
            "text/plain": [
              "'This Is A Simple Sentence.'"
            ]
          },
          "metadata": {},
          "execution_count": 12
        }
      ]
    },
    {
      "cell_type": "markdown",
      "source": [
        "We can replace certain characters"
      ],
      "metadata": {
        "collapsed": false,
        "id": "WVhkKa_Ajg6P"
      }
    },
    {
      "cell_type": "code",
      "execution_count": 14,
      "outputs": [
        {
          "output_type": "execute_result",
          "data": {
            "application/vnd.google.colaboratory.intrinsic+json": {
              "type": "string"
            },
            "text/plain": [
              "'This is a simple <replacement>.'"
            ]
          },
          "metadata": {},
          "execution_count": 14
        }
      ],
      "source": [
        "s.replace(\"sentence\", \"<replacement>\")"
      ],
      "metadata": {
        "pycharm": {
          "name": "#%%\n"
        },
        "id": "_d4vuqAbjg6P",
        "colab": {
          "base_uri": "https://localhost:8080/",
          "height": 35
        },
        "outputId": "eb369b4b-8581-4198-d57d-589cc866afed"
      }
    },
    {
      "cell_type": "code",
      "source": [
        "s.replace(\"$$\", \"anything\")"
      ],
      "metadata": {
        "id": "IDmDQPx7ozOi"
      },
      "execution_count": null,
      "outputs": []
    },
    {
      "cell_type": "markdown",
      "source": [
        "We can check if a string could be a numeric type"
      ],
      "metadata": {
        "collapsed": false,
        "id": "rgXF3Dd5jg6P"
      }
    },
    {
      "cell_type": "code",
      "execution_count": 16,
      "outputs": [
        {
          "output_type": "execute_result",
          "data": {
            "text/plain": [
              "True"
            ]
          },
          "metadata": {},
          "execution_count": 16
        }
      ],
      "source": [
        "\"7\".isnumeric()"
      ],
      "metadata": {
        "pycharm": {
          "name": "#%%\n"
        },
        "id": "-QPnljxvjg6Q",
        "colab": {
          "base_uri": "https://localhost:8080/"
        },
        "outputId": "53100486-b55f-4280-956a-1b2676eb29ea"
      }
    },
    {
      "cell_type": "code",
      "source": [
        "\"a\".isnumeric()"
      ],
      "metadata": {
        "colab": {
          "base_uri": "https://localhost:8080/"
        },
        "id": "Piw7lxM8pBwI",
        "outputId": "9fc559fe-12bc-4abe-86b8-08c6aa90f471"
      },
      "execution_count": 18,
      "outputs": [
        {
          "output_type": "execute_result",
          "data": {
            "text/plain": [
              "False"
            ]
          },
          "metadata": {},
          "execution_count": 18
        }
      ]
    },
    {
      "cell_type": "code",
      "source": [
        "\"!\".isnumeric()"
      ],
      "metadata": {
        "colab": {
          "base_uri": "https://localhost:8080/"
        },
        "id": "we7MUkFppKmp",
        "outputId": "0dfce0fd-a517-4e37-a8ae-570f6b465da3"
      },
      "execution_count": 19,
      "outputs": [
        {
          "output_type": "execute_result",
          "data": {
            "text/plain": [
              "False"
            ]
          },
          "metadata": {},
          "execution_count": 19
        }
      ]
    },
    {
      "cell_type": "markdown",
      "source": [
        "We can check if a string contains a **sub-string**"
      ],
      "metadata": {
        "collapsed": false,
        "id": "GRgJoP_vjg6Q"
      }
    },
    {
      "cell_type": "code",
      "execution_count": 22,
      "outputs": [
        {
          "output_type": "execute_result",
          "data": {
            "text/plain": [
              "True"
            ]
          },
          "metadata": {},
          "execution_count": 22
        }
      ],
      "source": [
        "\"This\" in s"
      ],
      "metadata": {
        "pycharm": {
          "name": "#%%\n"
        },
        "id": "_6-LRMh_jg6Q",
        "colab": {
          "base_uri": "https://localhost:8080/"
        },
        "outputId": "6b21e51f-f8d6-4634-8fc9-ab13dadb7803"
      }
    },
    {
      "cell_type": "code",
      "source": [
        "\"potato\" in s"
      ],
      "metadata": {
        "colab": {
          "base_uri": "https://localhost:8080/"
        },
        "id": "vLoq77IXpoKE",
        "outputId": "c429dae9-8af6-4b0f-8698-1ff2e013076b"
      },
      "execution_count": 23,
      "outputs": [
        {
          "output_type": "execute_result",
          "data": {
            "text/plain": [
              "False"
            ]
          },
          "metadata": {},
          "execution_count": 23
        }
      ]
    },
    {
      "cell_type": "code",
      "source": [
        "\"THIS\" in s"
      ],
      "metadata": {
        "colab": {
          "base_uri": "https://localhost:8080/"
        },
        "id": "L87Wg1y4pxtr",
        "outputId": "a66c04a7-ead2-474c-be5a-0047a5e27b89"
      },
      "execution_count": 25,
      "outputs": [
        {
          "output_type": "execute_result",
          "data": {
            "text/plain": [
              "False"
            ]
          },
          "metadata": {},
          "execution_count": 25
        }
      ]
    },
    {
      "cell_type": "code",
      "source": [
        "\"THIS\" in s.upper()"
      ],
      "metadata": {
        "colab": {
          "base_uri": "https://localhost:8080/"
        },
        "id": "3PPz3xqxp4hv",
        "outputId": "0ed1cec4-91cf-4cc6-8f34-8682ea70717a"
      },
      "execution_count": 26,
      "outputs": [
        {
          "output_type": "execute_result",
          "data": {
            "text/plain": [
              "True"
            ]
          },
          "metadata": {},
          "execution_count": 26
        }
      ]
    },
    {
      "cell_type": "markdown",
      "source": [
        "We can count the number of times something appears in a string."
      ],
      "metadata": {
        "collapsed": false,
        "id": "ecPm9ZmLjg6Q"
      }
    },
    {
      "cell_type": "code",
      "source": [
        "s"
      ],
      "metadata": {
        "colab": {
          "base_uri": "https://localhost:8080/",
          "height": 35
        },
        "id": "pRu7MT_-qSAS",
        "outputId": "5df77815-9f39-40ad-9ca4-6d05920112a4"
      },
      "execution_count": 34,
      "outputs": [
        {
          "output_type": "execute_result",
          "data": {
            "application/vnd.google.colaboratory.intrinsic+json": {
              "type": "string"
            },
            "text/plain": [
              "'This is a simple sentence.'"
            ]
          },
          "metadata": {},
          "execution_count": 34
        }
      ]
    },
    {
      "cell_type": "code",
      "execution_count": 33,
      "outputs": [
        {
          "output_type": "execute_result",
          "data": {
            "text/plain": [
              "4"
            ]
          },
          "metadata": {},
          "execution_count": 33
        }
      ],
      "source": [
        "s.count(\" \")"
      ],
      "metadata": {
        "pycharm": {
          "name": "#%%\n"
        },
        "id": "SIASim0zjg6R",
        "colab": {
          "base_uri": "https://localhost:8080/"
        },
        "outputId": "062519ea-2455-48f2-996c-626de6f64374"
      }
    },
    {
      "cell_type": "code",
      "source": [
        "s.count(\"i\")"
      ],
      "metadata": {
        "colab": {
          "base_uri": "https://localhost:8080/"
        },
        "id": "POaiohPfqUGj",
        "outputId": "ba420241-9546-46e9-cce0-653b30f0a521"
      },
      "execution_count": 35,
      "outputs": [
        {
          "output_type": "execute_result",
          "data": {
            "text/plain": [
              "3"
            ]
          },
          "metadata": {},
          "execution_count": 35
        }
      ]
    },
    {
      "cell_type": "code",
      "source": [
        "s.count(\"s\")"
      ],
      "metadata": {
        "colab": {
          "base_uri": "https://localhost:8080/"
        },
        "id": "NRY6K8HNqXY2",
        "outputId": "30615434-cac7-49e4-de6e-36e4f515aa79"
      },
      "execution_count": 36,
      "outputs": [
        {
          "output_type": "execute_result",
          "data": {
            "text/plain": [
              "4"
            ]
          },
          "metadata": {},
          "execution_count": 36
        }
      ]
    },
    {
      "cell_type": "markdown",
      "source": [
        "or check if a string starts with another substring"
      ],
      "metadata": {
        "collapsed": false,
        "id": "3q8TJ8ZPjg6R"
      }
    },
    {
      "cell_type": "code",
      "execution_count": 38,
      "outputs": [
        {
          "output_type": "execute_result",
          "data": {
            "text/plain": [
              "True"
            ]
          },
          "metadata": {},
          "execution_count": 38
        }
      ],
      "source": [
        "s.startswith(\"T\")"
      ],
      "metadata": {
        "pycharm": {
          "name": "#%%\n"
        },
        "id": "RjWuXwV9jg6R",
        "colab": {
          "base_uri": "https://localhost:8080/"
        },
        "outputId": "fd794bff-d015-41de-fd36-a44cae6e9281"
      }
    },
    {
      "cell_type": "code",
      "source": [
        "s.endswith(\".\")"
      ],
      "metadata": {
        "colab": {
          "base_uri": "https://localhost:8080/"
        },
        "id": "HGpqzvh-qopS",
        "outputId": "bdf76234-2546-45cf-ec03-ba24cb255cbe"
      },
      "execution_count": 40,
      "outputs": [
        {
          "output_type": "execute_result",
          "data": {
            "text/plain": [
              "True"
            ]
          },
          "metadata": {},
          "execution_count": 40
        }
      ]
    },
    {
      "cell_type": "markdown",
      "source": [
        "With `len()`, you can check Python string length"
      ],
      "metadata": {
        "collapsed": false,
        "id": "ArXTq6r9jg6R"
      }
    },
    {
      "cell_type": "code",
      "execution_count": 41,
      "outputs": [
        {
          "output_type": "execute_result",
          "data": {
            "text/plain": [
              "26"
            ]
          },
          "metadata": {},
          "execution_count": 41
        }
      ],
      "source": [
        "len(s)"
      ],
      "metadata": {
        "pycharm": {
          "name": "#%%\n"
        },
        "id": "Xtqfj7gIjg6S",
        "colab": {
          "base_uri": "https://localhost:8080/"
        },
        "outputId": "8be83792-a481-4701-cd67-59ce29e090ec"
      }
    },
    {
      "cell_type": "code",
      "source": [
        "len(s * 100)"
      ],
      "metadata": {
        "colab": {
          "base_uri": "https://localhost:8080/"
        },
        "id": "IADRJplvq_Wy",
        "outputId": "ff5d15ab-d7dc-4648-e32a-60b539acc881"
      },
      "execution_count": 44,
      "outputs": [
        {
          "output_type": "execute_result",
          "data": {
            "text/plain": [
              "2600"
            ]
          },
          "metadata": {},
          "execution_count": 44
        }
      ]
    },
    {
      "cell_type": "markdown",
      "source": [
        "Each character in string has a position similar to how lists behaved in Snap"
      ],
      "metadata": {
        "collapsed": false,
        "id": "ztd32hfdjg6S"
      }
    },
    {
      "cell_type": "code",
      "execution_count": 48,
      "outputs": [
        {
          "output_type": "stream",
          "name": "stdout",
          "text": [
            "T\n",
            "h\n",
            "i\n",
            "s\n",
            " \n",
            "i\n",
            "s\n",
            " \n",
            "a\n",
            " \n",
            "s\n",
            "i\n",
            "m\n",
            "p\n",
            "l\n",
            "e\n",
            " \n",
            "s\n",
            "e\n",
            "n\n",
            "t\n",
            "e\n",
            "n\n",
            "c\n",
            "e\n",
            ".\n"
          ]
        }
      ],
      "source": [
        "for char in s:\n",
        "  print(char)"
      ],
      "metadata": {
        "pycharm": {
          "name": "#%%\n"
        },
        "id": "KiUFlhpLjg6S",
        "colab": {
          "base_uri": "https://localhost:8080/"
        },
        "outputId": "35601c81-ebe0-47bf-df81-c70cfbb9d6fa"
      }
    },
    {
      "cell_type": "code",
      "source": [
        "s[0]"
      ],
      "metadata": {
        "colab": {
          "base_uri": "https://localhost:8080/",
          "height": 35
        },
        "id": "symO2jf0sYjJ",
        "outputId": "22c18493-ff61-49a6-85ff-930c50fa18a4"
      },
      "execution_count": 50,
      "outputs": [
        {
          "output_type": "execute_result",
          "data": {
            "application/vnd.google.colaboratory.intrinsic+json": {
              "type": "string"
            },
            "text/plain": [
              "'T'"
            ]
          },
          "metadata": {},
          "execution_count": 50
        }
      ]
    },
    {
      "cell_type": "code",
      "source": [
        "s[3]"
      ],
      "metadata": {
        "colab": {
          "base_uri": "https://localhost:8080/",
          "height": 35
        },
        "id": "rjBP3KYhsgX6",
        "outputId": "eaf31f42-0e2c-4a4b-c2e4-39aeb6edd037"
      },
      "execution_count": 52,
      "outputs": [
        {
          "output_type": "execute_result",
          "data": {
            "application/vnd.google.colaboratory.intrinsic+json": {
              "type": "string"
            },
            "text/plain": [
              "'s'"
            ]
          },
          "metadata": {},
          "execution_count": 52
        }
      ]
    },
    {
      "cell_type": "markdown",
      "source": [
        "We can get the last character with `[-1]`"
      ],
      "metadata": {
        "collapsed": false,
        "id": "t0eCrdi7jg6S"
      }
    },
    {
      "cell_type": "code",
      "execution_count": 53,
      "outputs": [
        {
          "output_type": "execute_result",
          "data": {
            "application/vnd.google.colaboratory.intrinsic+json": {
              "type": "string"
            },
            "text/plain": [
              "'.'"
            ]
          },
          "metadata": {},
          "execution_count": 53
        }
      ],
      "source": [
        "s[-1]"
      ],
      "metadata": {
        "pycharm": {
          "name": "#%%\n"
        },
        "id": "DaRW_sOCjg6S",
        "colab": {
          "base_uri": "https://localhost:8080/",
          "height": 35
        },
        "outputId": "5d5fbe82-fef6-4841-bbde-fdbffe3f1bff"
      }
    },
    {
      "cell_type": "markdown",
      "source": [
        "We can also take *slices* from strings, remember in Python we start counting from 0."
      ],
      "metadata": {
        "collapsed": false,
        "id": "BDtL8hKnjg6S"
      }
    },
    {
      "cell_type": "code",
      "source": [
        "# in python the lower bound (number) is inclusive\n",
        "# The upper bound (number / limit) is exclusive\n",
        "\n",
        "s[0:4]"
      ],
      "metadata": {
        "colab": {
          "base_uri": "https://localhost:8080/",
          "height": 35
        },
        "id": "ibeF1dvAs1Qq",
        "outputId": "89fdae94-becb-4dd3-98fd-1c75f12310de"
      },
      "execution_count": 55,
      "outputs": [
        {
          "output_type": "execute_result",
          "data": {
            "application/vnd.google.colaboratory.intrinsic+json": {
              "type": "string"
            },
            "text/plain": [
              "'This'"
            ]
          },
          "metadata": {},
          "execution_count": 55
        }
      ]
    },
    {
      "cell_type": "code",
      "execution_count": 57,
      "outputs": [
        {
          "output_type": "execute_result",
          "data": {
            "application/vnd.google.colaboratory.intrinsic+json": {
              "type": "string"
            },
            "text/plain": [
              "'.'"
            ]
          },
          "metadata": {},
          "execution_count": 57
        }
      ],
      "source": [
        "s[len(s)-1]"
      ],
      "metadata": {
        "pycharm": {
          "name": "#%%\n"
        },
        "id": "wC5AjrU5jg6T",
        "colab": {
          "base_uri": "https://localhost:8080/",
          "height": 35
        },
        "outputId": "86095fbb-92f1-44dd-e605-e3b66d62fce1"
      }
    },
    {
      "cell_type": "markdown",
      "source": [
        "There is also a number of tricks for formatting strings"
      ],
      "metadata": {
        "collapsed": false,
        "id": "F5cUhoVQjg6T"
      }
    },
    {
      "cell_type": "code",
      "execution_count": 61,
      "outputs": [],
      "source": [
        "example = \"   foo bar baz   \""
      ],
      "metadata": {
        "pycharm": {
          "name": "#%%\n"
        },
        "id": "F1UhMyjijg6T"
      }
    },
    {
      "cell_type": "code",
      "execution_count": 63,
      "outputs": [
        {
          "output_type": "execute_result",
          "data": {
            "application/vnd.google.colaboratory.intrinsic+json": {
              "type": "string"
            },
            "text/plain": [
              "'   foo bar baz'"
            ]
          },
          "metadata": {},
          "execution_count": 63
        }
      ],
      "source": [
        "example.rstrip()"
      ],
      "metadata": {
        "pycharm": {
          "name": "#%%\n"
        },
        "id": "9RdRTdzUjg6T",
        "colab": {
          "base_uri": "https://localhost:8080/",
          "height": 35
        },
        "outputId": "42047ae8-3154-4966-e648-dc54f743a78c"
      }
    },
    {
      "cell_type": "code",
      "execution_count": 64,
      "outputs": [
        {
          "output_type": "execute_result",
          "data": {
            "application/vnd.google.colaboratory.intrinsic+json": {
              "type": "string"
            },
            "text/plain": [
              "'foo bar baz   '"
            ]
          },
          "metadata": {},
          "execution_count": 64
        }
      ],
      "source": [
        "example.lstrip()"
      ],
      "metadata": {
        "pycharm": {
          "name": "#%%\n"
        },
        "id": "_bSUk4XZjg6T",
        "colab": {
          "base_uri": "https://localhost:8080/",
          "height": 35
        },
        "outputId": "9731c45a-113f-47a2-f1a2-d7a158e29be4"
      }
    },
    {
      "cell_type": "markdown",
      "source": [
        "If we have a list (we will explore these more later) of strings we can join them together"
      ],
      "metadata": {
        "collapsed": false,
        "id": "Y0VhYll2jg6T"
      }
    },
    {
      "cell_type": "code",
      "execution_count": 67,
      "outputs": [],
      "source": [
        "string_list = [\"foo\", \"bar\", \"baz\", \"spam\", \"fleshwound\"]"
      ],
      "metadata": {
        "pycharm": {
          "name": "#%%\n"
        },
        "id": "NDZNtNfdjg6U"
      }
    },
    {
      "cell_type": "code",
      "execution_count": 68,
      "outputs": [
        {
          "output_type": "execute_result",
          "data": {
            "application/vnd.google.colaboratory.intrinsic+json": {
              "type": "string"
            },
            "text/plain": [
              "'foo, bar, baz, spam, fleshwound'"
            ]
          },
          "metadata": {},
          "execution_count": 68
        }
      ],
      "source": [
        "\", \".join(string_list)"
      ],
      "metadata": {
        "pycharm": {
          "name": "#%%\n"
        },
        "id": "w_syxwRwjg6U",
        "colab": {
          "base_uri": "https://localhost:8080/",
          "height": 35
        },
        "outputId": "da0944cc-550f-440d-d2ef-769b08c3e81a"
      }
    },
    {
      "cell_type": "markdown",
      "source": [
        "As you can see there is a lot we can do with strings and rightly so as we tend to interact with text data quite frequently while programming."
      ],
      "metadata": {
        "collapsed": false,
        "pycharm": {
          "name": "#%% md\n"
        },
        "id": "KizTdTjwjg6U"
      }
    }
  ],
  "metadata": {
    "kernelspec": {
      "name": "python3",
      "language": "python",
      "display_name": "Python 3 (ipykernel)"
    },
    "language_info": {
      "codemirror_mode": {
        "name": "ipython",
        "version": 2
      },
      "file_extension": ".py",
      "mimetype": "text/x-python",
      "name": "python",
      "nbconvert_exporter": "python",
      "pygments_lexer": "ipython2",
      "version": "2.7.6"
    },
    "colab": {
      "name": "Copy of Notes-1-04-01_String-manipulation-lecture.ipynb",
      "provenance": [],
      "collapsed_sections": [],
      "include_colab_link": true
    }
  },
  "nbformat": 4,
  "nbformat_minor": 0
}